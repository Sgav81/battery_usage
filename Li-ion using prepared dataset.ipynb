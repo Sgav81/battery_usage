{
 "cells": [
  {
   "cell_type": "code",
   "execution_count": 1,
   "id": "7684467e",
   "metadata": {
    "scrolled": true
   },
   "outputs": [
    {
     "data": {
      "text/plain": [
       "{'__header__': b'MATLAB 5.0 MAT-file, Platform: PCWIN64, Created on: Wed Feb 19 20:33:57 2020',\n",
       " '__version__': '1.0',\n",
       " '__globals__': [],\n",
       " 'X': array([[0.38514793, 0.38515183, 0.38515573, ..., 0.47884278, 0.4789612 ,\n",
       "         0.4789612 ],\n",
       "        [0.75102009, 0.75102009, 0.75102009, ..., 0.75102009, 0.75102009,\n",
       "         0.75102009],\n",
       "        [0.30310108, 0.30459129, 0.3060815 , ..., 0.00847709, 0.00847709,\n",
       "         0.00847709],\n",
       "        [0.38514793, 0.38514988, 0.38515183, ..., 0.45983939, 0.45997861,\n",
       "         0.46011672],\n",
       "        [0.75102009, 0.75102009, 0.75102009, ..., 0.75102009, 0.75102009,\n",
       "         0.75102009]]),\n",
       " 'Y': array([[0.20641667, 0.20641667, 0.20641667, ..., 0.28324333, 0.28324333,\n",
       "         0.28324333]])}"
      ]
     },
     "execution_count": 1,
     "metadata": {},
     "output_type": "execute_result"
    }
   ],
   "source": [
    "import scipy.io\n",
    "import pandas as pd\n",
    "import numpy as np\n",
    "\n",
    "# Load the .mat file\n",
    "mat = scipy.io.loadmat(r\"C:\\Users\\dell\\Project\\Li-ion dataset\\LGHG2@n10C_to_25degC\\Train\\TRAIN_LGHG2@n10degC_to_25degC_Norm_5Inputs.mat\")\n",
    "\n",
    "mat"
   ]
  },
  {
   "cell_type": "code",
   "execution_count": 2,
   "id": "cc2457a3",
   "metadata": {},
   "outputs": [
    {
     "data": {
      "text/plain": [
       "(669956,)"
      ]
     },
     "execution_count": 2,
     "metadata": {},
     "output_type": "execute_result"
    }
   ],
   "source": [
    "# Extract the fields from the 'meas' structured array\n",
    "X = mat['X'][0]\n",
    "Y = mat['Y'][0]\n",
    "X.shape"
   ]
  },
  {
   "cell_type": "code",
   "execution_count": 3,
   "id": "ce2c3065",
   "metadata": {},
   "outputs": [
    {
     "data": {
      "text/html": [
       "<div>\n",
       "<style scoped>\n",
       "    .dataframe tbody tr th:only-of-type {\n",
       "        vertical-align: middle;\n",
       "    }\n",
       "\n",
       "    .dataframe tbody tr th {\n",
       "        vertical-align: top;\n",
       "    }\n",
       "\n",
       "    .dataframe thead th {\n",
       "        text-align: right;\n",
       "    }\n",
       "</style>\n",
       "<table border=\"1\" class=\"dataframe\">\n",
       "  <thead>\n",
       "    <tr style=\"text-align: right;\">\n",
       "      <th></th>\n",
       "      <th>X</th>\n",
       "      <th>Y</th>\n",
       "    </tr>\n",
       "  </thead>\n",
       "  <tbody>\n",
       "    <tr>\n",
       "      <th>0</th>\n",
       "      <td>0.385148</td>\n",
       "      <td>0.206417</td>\n",
       "    </tr>\n",
       "    <tr>\n",
       "      <th>1</th>\n",
       "      <td>0.385152</td>\n",
       "      <td>0.206417</td>\n",
       "    </tr>\n",
       "    <tr>\n",
       "      <th>2</th>\n",
       "      <td>0.385156</td>\n",
       "      <td>0.206417</td>\n",
       "    </tr>\n",
       "    <tr>\n",
       "      <th>3</th>\n",
       "      <td>0.385160</td>\n",
       "      <td>0.206417</td>\n",
       "    </tr>\n",
       "    <tr>\n",
       "      <th>4</th>\n",
       "      <td>0.385164</td>\n",
       "      <td>0.206417</td>\n",
       "    </tr>\n",
       "    <tr>\n",
       "      <th>...</th>\n",
       "      <td>...</td>\n",
       "      <td>...</td>\n",
       "    </tr>\n",
       "    <tr>\n",
       "      <th>669951</th>\n",
       "      <td>0.478843</td>\n",
       "      <td>0.283243</td>\n",
       "    </tr>\n",
       "    <tr>\n",
       "      <th>669952</th>\n",
       "      <td>0.478843</td>\n",
       "      <td>0.283243</td>\n",
       "    </tr>\n",
       "    <tr>\n",
       "      <th>669953</th>\n",
       "      <td>0.478843</td>\n",
       "      <td>0.283243</td>\n",
       "    </tr>\n",
       "    <tr>\n",
       "      <th>669954</th>\n",
       "      <td>0.478961</td>\n",
       "      <td>0.283243</td>\n",
       "    </tr>\n",
       "    <tr>\n",
       "      <th>669955</th>\n",
       "      <td>0.478961</td>\n",
       "      <td>0.283243</td>\n",
       "    </tr>\n",
       "  </tbody>\n",
       "</table>\n",
       "<p>669956 rows × 2 columns</p>\n",
       "</div>"
      ],
      "text/plain": [
       "               X         Y\n",
       "0       0.385148  0.206417\n",
       "1       0.385152  0.206417\n",
       "2       0.385156  0.206417\n",
       "3       0.385160  0.206417\n",
       "4       0.385164  0.206417\n",
       "...          ...       ...\n",
       "669951  0.478843  0.283243\n",
       "669952  0.478843  0.283243\n",
       "669953  0.478843  0.283243\n",
       "669954  0.478961  0.283243\n",
       "669955  0.478961  0.283243\n",
       "\n",
       "[669956 rows x 2 columns]"
      ]
     },
     "execution_count": 3,
     "metadata": {},
     "output_type": "execute_result"
    }
   ],
   "source": [
    "# Create a dictionary with the field names and data\n",
    "data = {'X': X.flatten(),\n",
    "        'Y': Y.flatten()}\n",
    "\n",
    "# Create a Pandas dataframe from the dictionary\n",
    "df = pd.DataFrame(data)\n",
    "\n",
    "# Print the dataframe\n",
    "df"
   ]
  },
  {
   "cell_type": "code",
   "execution_count": 4,
   "id": "cedd1172",
   "metadata": {
    "scrolled": true
   },
   "outputs": [
    {
     "data": {
      "image/png": "[encoded data removed]",
      "text/plain": [
       "<Figure size 432x288 with 1 Axes>"
      ]
     },
     "metadata": {
      "needs_background": "light"
     },
     "output_type": "display_data"
    }
   ],
   "source": [
    "import matplotlib.pyplot as plt\n",
    "import seaborn as sns\n",
    "\n",
    "plt.scatter(df['X'], df['Y'], color ='red',cmap='magma')\n",
    "plt.show()"
   ]
  },
  {
   "cell_type": "code",
   "execution_count": 5,
   "id": "b7f56f85",
   "metadata": {
    "scrolled": true
   },
   "outputs": [
    {
     "data": {
      "text/plain": [
       "{'__header__': b'MATLAB 5.0 MAT-file, Platform: PCWIN64, Created on: Wed Feb 19 20:33:57 2020',\n",
       " '__version__': '1.0',\n",
       " '__globals__': [],\n",
       " 'X': array([[0.38514793, 0.38515183, 0.38515573, ..., 0.47884278, 0.4789612 ,\n",
       "         0.4789612 ],\n",
       "        [0.75102009, 0.75102009, 0.75102009, ..., 0.75102009, 0.75102009,\n",
       "         0.75102009],\n",
       "        [0.30310108, 0.30459129, 0.3060815 , ..., 0.00847709, 0.00847709,\n",
       "         0.00847709],\n",
       "        [0.38514793, 0.38514988, 0.38515183, ..., 0.45983939, 0.45997861,\n",
       "         0.46011672],\n",
       "        [0.75102009, 0.75102009, 0.75102009, ..., 0.75102009, 0.75102009,\n",
       "         0.75102009]]),\n",
       " 'Y': array([[0.20641667, 0.20641667, 0.20641667, ..., 0.28324333, 0.28324333,\n",
       "         0.28324333]])}"
      ]
     },
     "execution_count": 5,
     "metadata": {},
     "output_type": "execute_result"
    }
   ],
   "source": [
    "import scipy.io\n",
    "import pandas as pd\n",
    "\n",
    "# Load the .mat file\n",
    "mat = scipy.io.loadmat(r\"C:\\Users\\dell\\Project\\Li-ion dataset\\LGHG2@n10C_to_25degC\\Train\\TRAIN_LGHG2@n10degC_to_25degC_Norm_5Inputs.mat\")\n",
    "\n",
    "mat"
   ]
  },
  {
   "cell_type": "code",
   "execution_count": 6,
   "id": "a817aedb",
   "metadata": {},
   "outputs": [
    {
     "data": {
      "text/plain": [
       "(669956,)"
      ]
     },
     "execution_count": 6,
     "metadata": {},
     "output_type": "execute_result"
    }
   ],
   "source": [
    "# Extract the fields from the 'meas' structured array\n",
    "X = mat['X'][0]\n",
    "Y = mat['Y'][0]\n",
    "X.shape"
   ]
  },
  {
   "cell_type": "code",
   "execution_count": 7,
   "id": "7c0a730d",
   "metadata": {},
   "outputs": [
    {
     "data": {
      "text/html": [
       "<div>\n",
       "<style scoped>\n",
       "    .dataframe tbody tr th:only-of-type {\n",
       "        vertical-align: middle;\n",
       "    }\n",
       "\n",
       "    .dataframe tbody tr th {\n",
       "        vertical-align: top;\n",
       "    }\n",
       "\n",
       "    .dataframe thead th {\n",
       "        text-align: right;\n",
       "    }\n",
       "</style>\n",
       "<table border=\"1\" class=\"dataframe\">\n",
       "  <thead>\n",
       "    <tr style=\"text-align: right;\">\n",
       "      <th></th>\n",
       "      <th>X</th>\n",
       "      <th>Y</th>\n",
       "    </tr>\n",
       "  </thead>\n",
       "  <tbody>\n",
       "    <tr>\n",
       "      <th>0</th>\n",
       "      <td>0.385148</td>\n",
       "      <td>0.206417</td>\n",
       "    </tr>\n",
       "    <tr>\n",
       "      <th>1</th>\n",
       "      <td>0.385152</td>\n",
       "      <td>0.206417</td>\n",
       "    </tr>\n",
       "    <tr>\n",
       "      <th>2</th>\n",
       "      <td>0.385156</td>\n",
       "      <td>0.206417</td>\n",
       "    </tr>\n",
       "    <tr>\n",
       "      <th>3</th>\n",
       "      <td>0.385160</td>\n",
       "      <td>0.206417</td>\n",
       "    </tr>\n",
       "    <tr>\n",
       "      <th>4</th>\n",
       "      <td>0.385164</td>\n",
       "      <td>0.206417</td>\n",
       "    </tr>\n",
       "    <tr>\n",
       "      <th>...</th>\n",
       "      <td>...</td>\n",
       "      <td>...</td>\n",
       "    </tr>\n",
       "    <tr>\n",
       "      <th>669951</th>\n",
       "      <td>0.478843</td>\n",
       "      <td>0.283243</td>\n",
       "    </tr>\n",
       "    <tr>\n",
       "      <th>669952</th>\n",
       "      <td>0.478843</td>\n",
       "      <td>0.283243</td>\n",
       "    </tr>\n",
       "    <tr>\n",
       "      <th>669953</th>\n",
       "      <td>0.478843</td>\n",
       "      <td>0.283243</td>\n",
       "    </tr>\n",
       "    <tr>\n",
       "      <th>669954</th>\n",
       "      <td>0.478961</td>\n",
       "      <td>0.283243</td>\n",
       "    </tr>\n",
       "    <tr>\n",
       "      <th>669955</th>\n",
       "      <td>0.478961</td>\n",
       "      <td>0.283243</td>\n",
       "    </tr>\n",
       "  </tbody>\n",
       "</table>\n",
       "<p>669956 rows × 2 columns</p>\n",
       "</div>"
      ],
      "text/plain": [
       "               X         Y\n",
       "0       0.385148  0.206417\n",
       "1       0.385152  0.206417\n",
       "2       0.385156  0.206417\n",
       "3       0.385160  0.206417\n",
       "4       0.385164  0.206417\n",
       "...          ...       ...\n",
       "669951  0.478843  0.283243\n",
       "669952  0.478843  0.283243\n",
       "669953  0.478843  0.283243\n",
       "669954  0.478961  0.283243\n",
       "669955  0.478961  0.283243\n",
       "\n",
       "[669956 rows x 2 columns]"
      ]
     },
     "execution_count": 7,
     "metadata": {},
     "output_type": "execute_result"
    }
   ],
   "source": [
    "# Create a dictionary with the field names and data\n",
    "data = {'X': X.flatten(),\n",
    "        'Y': Y.flatten()}\n",
    "\n",
    "# Create a Pandas dataframe from the dictionary\n",
    "df = pd.DataFrame(data)\n",
    "\n",
    "# Print the dataframe\n",
    "df"
   ]
  },
  {
   "cell_type": "code",
   "execution_count": 8,
   "id": "59eaae92",
   "metadata": {},
   "outputs": [],
   "source": [
    "import scipy.io\n",
    "import pandas as pd\n",
    "\n",
    "# Load the .mat file\n",
    "mat_test1 = scipy.io.loadmat(r\"C:\\Users\\dell\\Project\\Li-ion dataset\\LGHG2@n10C_to_25degC\\Test\\01_TEST_LGHG2@n10degC_Norm_(05_Inputs).mat\")\n",
    "mat_test2 = scipy.io.loadmat(r\"C:\\Users\\dell\\Project\\Li-ion dataset\\LGHG2@n10C_to_25degC\\Test\\02_TEST_LGHG2@0degC_Norm_(05_Inputs).mat\")\n",
    "mat_test3 = scipy.io.loadmat(r\"C:\\Users\\dell\\Project\\Li-ion dataset\\LGHG2@n10C_to_25degC\\Test\\03_TEST_LGHG2@10degC_Norm_(05_Inputs).mat\")\n",
    "mat_test4 = scipy.io.loadmat(r\"C:\\Users\\dell\\Project\\Li-ion dataset\\LGHG2@n10C_to_25degC\\Test\\04_TEST_LGHG2@25degC_Norm_(05_Inputs).mat\")\n"
   ]
  },
  {
   "cell_type": "code",
   "execution_count": 9,
   "id": "5e15f61b",
   "metadata": {},
   "outputs": [
    {
     "data": {
      "text/plain": [
       "(39293,)"
      ]
     },
     "execution_count": 9,
     "metadata": {},
     "output_type": "execute_result"
    }
   ],
   "source": [
    "# Extract the fields from the 'meas' structured array\n",
    "X1 = mat_test1['X'][0]\n",
    "Y1 = mat_test1['Y'][0]\n",
    "\n",
    "X2 = mat_test2['X'][0]\n",
    "Y2 = mat_test2['Y'][0]\n",
    "\n",
    "X3 = mat_test2['X'][0]\n",
    "Y3 = mat_test2['Y'][0]\n",
    "\n",
    "X4 = mat_test2['X'][0]\n",
    "Y4 = mat_test2['Y'][0]\n",
    "\n",
    "X1.shape\n",
    "\n"
   ]
  },
  {
   "cell_type": "code",
   "execution_count": 10,
   "id": "31e36015",
   "metadata": {},
   "outputs": [
    {
     "data": {
      "text/html": [
       "<div>\n",
       "<style scoped>\n",
       "    .dataframe tbody tr th:only-of-type {\n",
       "        vertical-align: middle;\n",
       "    }\n",
       "\n",
       "    .dataframe tbody tr th {\n",
       "        vertical-align: top;\n",
       "    }\n",
       "\n",
       "    .dataframe thead th {\n",
       "        text-align: right;\n",
       "    }\n",
       "</style>\n",
       "<table border=\"1\" class=\"dataframe\">\n",
       "  <thead>\n",
       "    <tr style=\"text-align: right;\">\n",
       "      <th></th>\n",
       "      <th>Xt</th>\n",
       "      <th>Yt</th>\n",
       "    </tr>\n",
       "  </thead>\n",
       "  <tbody>\n",
       "    <tr>\n",
       "      <th>0</th>\n",
       "      <td>0.967308</td>\n",
       "      <td>1.000000</td>\n",
       "    </tr>\n",
       "    <tr>\n",
       "      <th>1</th>\n",
       "      <td>0.957333</td>\n",
       "      <td>0.999990</td>\n",
       "    </tr>\n",
       "    <tr>\n",
       "      <th>2</th>\n",
       "      <td>0.953690</td>\n",
       "      <td>0.999983</td>\n",
       "    </tr>\n",
       "    <tr>\n",
       "      <th>3</th>\n",
       "      <td>0.952046</td>\n",
       "      <td>0.999973</td>\n",
       "    </tr>\n",
       "    <tr>\n",
       "      <th>4</th>\n",
       "      <td>0.951106</td>\n",
       "      <td>0.999963</td>\n",
       "    </tr>\n",
       "    <tr>\n",
       "      <th>...</th>\n",
       "      <td>...</td>\n",
       "      <td>...</td>\n",
       "    </tr>\n",
       "    <tr>\n",
       "      <th>166878</th>\n",
       "      <td>0.413442</td>\n",
       "      <td>0.216727</td>\n",
       "    </tr>\n",
       "    <tr>\n",
       "      <th>166879</th>\n",
       "      <td>0.413442</td>\n",
       "      <td>0.216727</td>\n",
       "    </tr>\n",
       "    <tr>\n",
       "      <th>166880</th>\n",
       "      <td>0.413560</td>\n",
       "      <td>0.216727</td>\n",
       "    </tr>\n",
       "    <tr>\n",
       "      <th>166881</th>\n",
       "      <td>0.413561</td>\n",
       "      <td>0.216727</td>\n",
       "    </tr>\n",
       "    <tr>\n",
       "      <th>166882</th>\n",
       "      <td>0.413561</td>\n",
       "      <td>0.216727</td>\n",
       "    </tr>\n",
       "  </tbody>\n",
       "</table>\n",
       "<p>166883 rows × 2 columns</p>\n",
       "</div>"
      ],
      "text/plain": [
       "              Xt        Yt\n",
       "0       0.967308  1.000000\n",
       "1       0.957333  0.999990\n",
       "2       0.953690  0.999983\n",
       "3       0.952046  0.999973\n",
       "4       0.951106  0.999963\n",
       "...          ...       ...\n",
       "166878  0.413442  0.216727\n",
       "166879  0.413442  0.216727\n",
       "166880  0.413560  0.216727\n",
       "166881  0.413561  0.216727\n",
       "166882  0.413561  0.216727\n",
       "\n",
       "[166883 rows x 2 columns]"
      ]
     },
     "execution_count": 10,
     "metadata": {},
     "output_type": "execute_result"
    }
   ],
   "source": [
    "# Create a dictionary with the field names and data\n",
    "#data_test = {'X1': X1.flatten(),\n",
    "        #'Y1': Y1.flatten()}\n",
    "\n",
    "data_test = {'Xt': np.concatenate((X1,X2,X3,X4),axis=0),\n",
    "            'Yt': np.concatenate((Y1,Y2,Y3,Y4),axis=0)}\n",
    "\n",
    "# Create a Pandas dataframe from the dictionary\n",
    "df_test = pd.DataFrame(data_test)\n",
    "\n",
    "# Print the dataframe\n",
    "df_test"
   ]
  },
  {
   "cell_type": "code",
   "execution_count": null,
   "id": "ab112ffe",
   "metadata": {},
   "outputs": [],
   "source": []
  },
  {
   "cell_type": "code",
   "execution_count": 11,
   "id": "e2ca6e53",
   "metadata": {
    "scrolled": true
   },
   "outputs": [
    {
     "data": {
      "image/png": "[encoded data removed]",
      "text/plain": [
       "<Figure size 432x288 with 1 Axes>"
      ]
     },
     "metadata": {
      "needs_background": "light"
     },
     "output_type": "display_data"
    }
   ],
   "source": [
    "import matplotlib.pyplot as plt\n",
    "import seaborn as sns\n",
    "\n",
    "plt.scatter(df['X'], df['Y'], color ='red',cmap='magma')\n",
    "plt.show()"
   ]
  },
  {
   "cell_type": "code",
   "execution_count": 12,
   "id": "77fa21af",
   "metadata": {},
   "outputs": [
    {
     "data": {
      "image/png": "[encoded data removed]",
      "text/plain": [
       "<Figure size 432x288 with 1 Axes>"
      ]
     },
     "metadata": {
      "needs_background": "light"
     },
     "output_type": "display_data"
    }
   ],
   "source": [
    "plt.scatter(df_test['Xt'], df_test['Yt'], color ='red',cmap='magma')\n",
    "plt.show()"
   ]
  },
  {
   "cell_type": "code",
   "execution_count": 13,
   "id": "9e222762",
   "metadata": {
    "scrolled": true
   },
   "outputs": [
    {
     "data": {
      "image/png": "[encoded data removed]",
      "text/plain": [
       "<Figure size 432x288 with 1 Axes>"
      ]
     },
     "metadata": {
      "needs_background": "light"
     },
     "output_type": "display_data"
    }
   ],
   "source": [
    "plt.hist(df['X'])\n",
    "plt.hist(df['Y'])\n",
    "plt.xlabel('V')\n",
    "plt.ylabel('No. of Points')\n",
    "plt.show()"
   ]
  },
  {
   "cell_type": "code",
   "execution_count": 14,
   "id": "ab327346",
   "metadata": {},
   "outputs": [
    {
     "data": {
      "image/png": "[encoded data removed]",
      "text/plain": [
       "<Figure size 432x288 with 1 Axes>"
      ]
     },
     "metadata": {
      "needs_background": "light"
     },
     "output_type": "display_data"
    }
   ],
   "source": [
    "plt.hist(df_test['Xt'])\n",
    "plt.hist(df_test['Yt'])\n",
    "plt.xlabel('V')\n",
    "plt.ylabel('No. of Points')\n",
    "plt.show()"
   ]
  },
  {
   "cell_type": "code",
   "execution_count": 15,
   "id": "fb087f14",
   "metadata": {},
   "outputs": [],
   "source": [
    "#pip install -U scikit-learn"
   ]
  },
  {
   "cell_type": "code",
   "execution_count": 16,
   "id": "ea2dad59",
   "metadata": {
    "scrolled": true
   },
   "outputs": [
    {
     "data": {
      "text/plain": [
       "\"\\nX = df['X'].to_numpy().reshape(-1,1)\\ny = df['Y'].to_numpy().reshape(-1,1)\\n\\nfrom sklearn.preprocessing import LabelEncoder\\nsc = LabelEncoder()\\ny = sc.fit_transform(y)\\ny\\n\\nfrom sklearn.model_selection import train_test_split\\nX_train, X_test, y_train, y_test = train_test_split(X, y, test_size=0.2, random_state=42)\\n\\n\\nX_train.shape, X_test.shape, y_train.shape, y_test.shape\\n\""
      ]
     },
     "execution_count": 16,
     "metadata": {},
     "output_type": "execute_result"
    }
   ],
   "source": [
    "'''\n",
    "X = df['X'].to_numpy().reshape(-1,1)\n",
    "y = df['Y'].to_numpy().reshape(-1,1)\n",
    "\n",
    "from sklearn.preprocessing import LabelEncoder\n",
    "sc = LabelEncoder()\n",
    "y = sc.fit_transform(y)\n",
    "y\n",
    "\n",
    "from sklearn.model_selection import train_test_split\n",
    "X_train, X_test, y_train, y_test = train_test_split(X, y, test_size=0.2, random_state=42)\n",
    "\n",
    "\n",
    "X_train.shape, X_test.shape, y_train.shape, y_test.shape\n",
    "'''"
   ]
  },
  {
   "cell_type": "code",
   "execution_count": 17,
   "id": "9a3b93ef",
   "metadata": {},
   "outputs": [],
   "source": [
    "#type(X)"
   ]
  },
  {
   "cell_type": "code",
   "execution_count": 18,
   "id": "509efcf3",
   "metadata": {
    "scrolled": true
   },
   "outputs": [
    {
     "data": {
      "text/plain": [
       "\"\\nX = df['X'].to_numpy().reshape(-1,1)\\ny = df['Y'].to_numpy().reshape(-1,1)\\n\\nfrom sklearn.preprocessing import LabelEncoder\\nsc = LabelEncoder()\\ny = sc.fit_transform(y)\\n\\n\\nfrom sklearn.model_selection import train_test_split\\nX_train, X_test, y_train, y_test = train_test_split(X, y, test_size=0.2, random_state=42)\\n\\n\\nX_train.shape, X_test.shape, y_train.shape, y_test.shape\\n\""
      ]
     },
     "execution_count": 18,
     "metadata": {},
     "output_type": "execute_result"
    }
   ],
   "source": [
    "'''\n",
    "X = df['X'].to_numpy().reshape(-1,1)\n",
    "y = df['Y'].to_numpy().reshape(-1,1)\n",
    "\n",
    "from sklearn.preprocessing import LabelEncoder\n",
    "sc = LabelEncoder()\n",
    "y = sc.fit_transform(y)\n",
    "\n",
    "\n",
    "from sklearn.model_selection import train_test_split\n",
    "X_train, X_test, y_train, y_test = train_test_split(X, y, test_size=0.2, random_state=42)\n",
    "\n",
    "\n",
    "X_train.shape, X_test.shape, y_train.shape, y_test.shape\n",
    "'''"
   ]
  },
  {
   "cell_type": "code",
   "execution_count": 19,
   "id": "ade8ab67",
   "metadata": {},
   "outputs": [],
   "source": [
    "#type(X)"
   ]
  },
  {
   "cell_type": "code",
   "execution_count": 20,
   "id": "5bde80bd",
   "metadata": {},
   "outputs": [],
   "source": [
    "#y"
   ]
  },
  {
   "cell_type": "code",
   "execution_count": 21,
   "id": "7b43fedc",
   "metadata": {},
   "outputs": [
    {
     "data": {
      "text/plain": [
       "((669956, 1), (669956, 1), (166883, 1), (166883, 1))"
      ]
     },
     "execution_count": 21,
     "metadata": {},
     "output_type": "execute_result"
    }
   ],
   "source": [
    "from sklearn.preprocessing import LabelEncoder\n",
    "sc = LabelEncoder()\n",
    "Y = sc.fit_transform(Y)\n",
    "Yt = sc.fit_transform(df_test['Yt'])\n",
    "\n",
    "\n",
    "\n",
    "\n",
    "\n",
    "\n",
    "\n",
    "\n",
    "\n",
    "X_train = df['X'].to_numpy().reshape(669956,1)\n",
    "X_test = df['Y'].to_numpy().reshape(669956,1)\n",
    "y_train = df_test['Xt'].to_numpy().reshape(166883,1)\n",
    "y_test = df_test['Yt'].to_numpy().reshape(166883,1)\n",
    "X_train.shape, X_test.shape, y_train.shape, y_test.shape"
   ]
  },
  {
   "cell_type": "code",
   "execution_count": 22,
   "id": "d6b427e6",
   "metadata": {},
   "outputs": [
    {
     "data": {
      "text/plain": [
       "array([[1.        ],\n",
       "       [0.99999   ],\n",
       "       [0.99998332],\n",
       "       ...,\n",
       "       [0.21672667],\n",
       "       [0.21672667],\n",
       "       [0.21672667]])"
      ]
     },
     "execution_count": 22,
     "metadata": {},
     "output_type": "execute_result"
    }
   ],
   "source": [
    "y_test"
   ]
  },
  {
   "cell_type": "code",
   "execution_count": 23,
   "id": "4fe3518d",
   "metadata": {},
   "outputs": [],
   "source": [
    "#X_train_resampled = np.interp(np.linspace(0, 1, len(y_train)), np.linspace(0, 1, len(X_train)), y_train)\n",
    "#X_train_resampled"
   ]
  },
  {
   "cell_type": "markdown",
   "id": "9cab1152",
   "metadata": {},
   "source": [
    "from sklearn.ensemble import RandomForestClassifier\n",
    "# Initialize a random forest classifier and fit it to the training data\n",
    "rfc = RandomForestClassifier(n_estimators=100, random_state=42)\n",
    "rfc.fit(X_train, y_train)\n",
    "\n",
    "# Make predictions on the testing data\n",
    "y_pred = rfc.predict(X_test)\n",
    "\n",
    "# Calculate the accuracy score of the model\n",
    "acc = accuracy_score(y_test, y_pred)\n",
    "print(f\"Accuracy Score: {acc}\")"
   ]
  },
  {
   "cell_type": "code",
   "execution_count": 25,
   "id": "bd80e816",
   "metadata": {
    "scrolled": true
   },
   "outputs": [
    {
     "name": "stdout",
     "output_type": "stream",
     "text": [
      "(669956, 1) (166883, 1)\n"
     ]
    },
    {
     "name": "stderr",
     "output_type": "stream",
     "text": [
      "C:\\Users\\dell\\AppData\\Local\\Temp\\ipykernel_21020\\1623587698.py:14: DataConversionWarning: A column-vector y was passed when a 1d array was expected. Please change the shape of y to (n_samples,), for example using ravel().\n",
      "  rfc.fit(X_train_resampled, y_train_resampled)\n"
     ]
    }
   ],
   "source": [
    "import numpy as np\n",
    "from sklearn.utils import resample\n",
    "\n",
    "# Check the shapes of X_train and y_train\n",
    "print(X_train.shape, y_train.shape)\n",
    "\n",
    "# Resample the data to ensure that X_train and y_train have the same number of samples\n",
    "n_samples = min(X_train.shape[0], y_train.shape[0])\n",
    "X_train_resampled, y_train_resampled = resample(X_train[:166883,:], y_train[:166883,:], n_samples=166000, random_state=42)\n",
    "\n",
    "# Initialize a random forest classifier and fit it to the resampled training data\n",
    "from sklearn.ensemble import RandomForestRegressor\n",
    "rfc = RandomForestRegressor(n_estimators=100, random_state=42)\n",
    "rfc.fit(X_train_resampled, y_train_resampled)\n",
    "\n",
    "# Make predictions on the testing data\n",
    "y_pred = rfc.predict(X_test)\n",
    "\n"
   ]
  },
  {
   "cell_type": "code",
   "execution_count": 26,
   "id": "65ce0f14",
   "metadata": {
    "scrolled": false
   },
   "outputs": [
    {
     "name": "stdout",
     "output_type": "stream",
     "text": [
      "0.12151731424262702\n"
     ]
    }
   ],
   "source": [
    "from sklearn.metrics import accuracy_score, mean_squared_error\n",
    "# Calculate the accuracy score of the model\n",
    "#acc = accuracy_score(y_test[:166883], y_pred[:166883])\n",
    "#print(f\"Accuracy Score: {acc}\")\n",
    "\n",
    "mse_mlp = mean_squared_error(y_test[:166883], y_pred[:166883])\n",
    "print(mse_mlp)"
   ]
  },
  {
   "cell_type": "markdown",
   "id": "2f90afed",
   "metadata": {},
   "source": [
    "#MEAN SQUARED ERROR = 0.12151731424262702"
   ]
  },
  {
   "cell_type": "code",
   "execution_count": 27,
   "id": "54b3654a",
   "metadata": {},
   "outputs": [
    {
     "data": {
      "text/plain": [
       "'\\nfrom sklearn.ensemble import RandomForestRegressor\\n# Initialize a random forest classifier and fit it to the training data\\nrfc = RandomForestRegressor(n_estimators=100, random_state=42)\\nrfc.fit(X_train, y_train)\\n\\n# Make predictions on the testing data\\ny_pred = rfc.predict(X_test)\\n\\n\\nfrom sklearn.metrics import accuracy_score, mean_squared_error\\n# Calculate the accuracy score of the model\\n\\n#acc = accuracy_score(y_test, y_pred)\\n#print(f\"Accuracy Score: {acc}\")\\n\\n# FOR CONTINUOUS DATA only MSE works\\nmse_mlp = mean_squared_error(y_test, y_pred)\\nprint(mse_mlp)\\n'"
      ]
     },
     "execution_count": 27,
     "metadata": {},
     "output_type": "execute_result"
    }
   ],
   "source": [
    "'''\n",
    "from sklearn.ensemble import RandomForestRegressor\n",
    "# Initialize a random forest classifier and fit it to the training data\n",
    "rfc = RandomForestRegressor(n_estimators=100, random_state=42)\n",
    "rfc.fit(X_train, y_train)\n",
    "\n",
    "# Make predictions on the testing data\n",
    "y_pred = rfc.predict(X_test)\n",
    "\n",
    "\n",
    "from sklearn.metrics import accuracy_score, mean_squared_error\n",
    "# Calculate the accuracy score of the model\n",
    "\n",
    "#acc = accuracy_score(y_test, y_pred)\n",
    "#print(f\"Accuracy Score: {acc}\")\n",
    "\n",
    "# FOR CONTINUOUS DATA only MSE works\n",
    "mse_mlp = mean_squared_error(y_test, y_pred)\n",
    "print(mse_mlp)\n",
    "'''"
   ]
  },
  {
   "cell_type": "code",
   "execution_count": 28,
   "id": "5e573c37",
   "metadata": {},
   "outputs": [
    {
     "name": "stdout",
     "output_type": "stream",
     "text": [
      "0.12151731424262702\n"
     ]
    }
   ],
   "source": [
    "from sklearn.linear_model import LinearRegression\n",
    "lr = LinearRegression()\n",
    "lr.fit(X_train[:166883], y_train[:166883])\n",
    "\n",
    "mse_linear = mean_squared_error(y_test[:166883], y_pred[:166883])\n",
    "print(mse_linear)"
   ]
  },
  {
   "cell_type": "code",
   "execution_count": 29,
   "id": "00f4bd7e",
   "metadata": {},
   "outputs": [
    {
     "data": {
      "image/png": "[encoded data removed]",
      "text/plain": [
       "<Figure size 432x288 with 1 Axes>"
      ]
     },
     "metadata": {
      "needs_background": "light"
     },
     "output_type": "display_data"
    }
   ],
   "source": [
    "# Predict capacity using the random forest regression model\n",
    "y_pred = rfc.predict(X_test[:166883])\n",
    "\n",
    "# Visualize the actual and predicted capacity values\n",
    "import matplotlib.pyplot as plt\n",
    "plt.plot(y_test[:166883], label=\"Actual\")\n",
    "plt.plot(y_pred[:166883], label=\"Predicted\")\n",
    "plt.legend()\n",
    "plt.show()"
   ]
  },
  {
   "cell_type": "code",
   "execution_count": null,
   "id": "2ded457b",
   "metadata": {},
   "outputs": [],
   "source": []
  }
 ],
 "metadata": {
  "kernelspec": {
   "display_name": "Python 3 (ipykernel)",
   "language": "python",
   "name": "python3"
  },
  "language_info": {
   "codemirror_mode": {
    "name": "ipython",
    "version": 3
   },
   "file_extension": ".py",
   "mimetype": "text/x-python",
   "name": "python",
   "nbconvert_exporter": "python",
   "pygments_lexer": "ipython3",
   "version": "3.9.12"
  }
 },
 "nbformat": 4,
 "nbformat_minor": 5
}
